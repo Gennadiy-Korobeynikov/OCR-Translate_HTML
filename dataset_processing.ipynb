{
 "cells": [
  {
   "cell_type": "code",
   "execution_count": 1,
   "metadata": {},
   "outputs": [],
   "source": [
    "import os\n",
    "from PIL import Image\n",
    "import numpy as np\n",
    "import cv2"
   ]
  },
  {
   "cell_type": "code",
   "execution_count": 2,
   "metadata": {},
   "outputs": [],
   "source": [
    "\n",
    "dirs = [dirs for root, dirs, files in os.walk('Cyrillic')][0]\n",
    "input_root_dir = 'Cyrillic' \n",
    "output_root_dir = 'Output' "
   ]
  },
  {
   "cell_type": "code",
   "execution_count": 3,
   "metadata": {},
   "outputs": [],
   "source": [
    "def make_background(image):\n",
    "    trans_mask = image[:, :, 3] == 0\n",
    "    image[trans_mask] = [255, 255, 255, 255]\n",
    "    return image\n",
    "\n",
    "def convert_images(input_dir, output_dir):\n",
    "    if not os.path.exists(output_dir):\n",
    "        os.makedirs(output_dir)\n",
    "\n",
    "    for file_name in os.listdir(input_dir):\n",
    "        if file_name.lower().endswith(('.png', '.jpg', '.jpeg')):\n",
    "            input_path = os.path.join(input_dir, file_name)\n",
    "            output_path = os.path.join(output_dir, os.path.splitext(file_name)[0] + '.jpg')\n",
    "            with Image.open(input_path) as img:\n",
    "                arr = np.array(img)\n",
    "                new_arr = make_background(arr)\n",
    "                new_image = cv2.cvtColor(new_arr, cv2.COLOR_BGRA2GRAY)\n",
    "                img_pil = Image.fromarray(new_image)\n",
    "                img_pil.save(output_path, 'PNG')\n",
    "                # print(f\"Обработано изображение: {file_name}\")"
   ]
  },
  {
   "cell_type": "code",
   "execution_count": 4,
   "metadata": {},
   "outputs": [],
   "source": [
    "def resize_images(input_dir, output_dir, size=(32, 32)):\n",
    "    if not os.path.exists(output_dir):\n",
    "        os.makedirs(output_dir)\n",
    "\n",
    "    for file_name in os.listdir(input_dir):\n",
    "        if file_name.lower().endswith(('.png', '.jpg', '.jpeg')): \n",
    "            input_path = os.path.join(input_dir, file_name)\n",
    "            output_path = os.path.join(output_dir, os.path.splitext(file_name)[0] + '.jpg')\n",
    "            with Image.open(input_path) as img:\n",
    "                img = img.resize(size, Image.Resampling.NEAREST)\n",
    "                img.save(output_path, 'PNG')"
   ]
  },
  {
   "cell_type": "code",
   "execution_count": 5,
   "metadata": {},
   "outputs": [],
   "source": [
    "def resize_images_1(input_dir, output_dir, size=(32, 32)):\n",
    "    if not os.path.exists(output_dir):\n",
    "        os.makedirs(output_dir)\n",
    "\n",
    "    for file_name in os.listdir(input_dir):\n",
    "        if file_name.lower().endswith(('.png', '.jpg', '.jpeg')):\n",
    "            input_path = os.path.join(input_dir, file_name)\n",
    "            output_path = os.path.join(output_dir, os.path.splitext(file_name)[0] + '.jpg')\n",
    "            with Image.open(input_path) as img:\n",
    "                arr = np.array(img)\n",
    "                new_image = cv2.resize(arr, (32, 32), interpolation=cv2.INTER_AREA)\n",
    "                img_pil = Image.fromarray(new_image)\n",
    "                img_pil.save(output_path, 'PNG')\n",
    "                # print(f\"Обработано изображение: {file_name}\")\n"
   ]
  },
  {
   "cell_type": "code",
   "execution_count": null,
   "metadata": {},
   "outputs": [],
   "source": [
    "for dir in dirs:\n",
    "    input_directory = os.path.join(input_root_dir, dir)\n",
    "    output_directory = os.path.join(output_root_dir, dir)\n",
    "    print(input_directory, output_directory)\n",
    "    convert_images(input_directory, output_directory)"
   ]
  },
  {
   "cell_type": "code",
   "execution_count": null,
   "metadata": {},
   "outputs": [],
   "source": [
    "for dir in [dirs for root, dirs, files in os.walk('Output')][0]:\n",
    "    input_directory = os.path.join('Output', dir)\n",
    "    output_directory = os.path.join('Resized1', dir)\n",
    "    print(input_directory, output_directory)\n",
    "    resize_images_1(input_directory, output_directory)"
   ]
  }
 ],
 "metadata": {
  "kernelspec": {
   "display_name": ".venv",
   "language": "python",
   "name": "python3"
  },
  "language_info": {
   "codemirror_mode": {
    "name": "ipython",
    "version": 3
   },
   "file_extension": ".py",
   "mimetype": "text/x-python",
   "name": "python",
   "nbconvert_exporter": "python",
   "pygments_lexer": "ipython3",
   "version": "3.12.3"
  }
 },
 "nbformat": 4,
 "nbformat_minor": 2
}
